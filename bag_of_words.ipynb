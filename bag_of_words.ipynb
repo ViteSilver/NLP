{
 "cells": [
  {
   "cell_type": "markdown",
   "metadata": {},
   "source": [
    "## Representing text data as a Bag of Words\n",
    "\n",
    "Computing the bag-of-words representation for a corpus of documents consists of the following three steps:\n",
    "<li><i>Tokenization.</i> Split each document into the words that appear in it (called <i>tokens</i>, for example by splitting them on whitespace and punctuation.</li>\n",
    "<li><i>Vocabulary building.</i> Collect a vocabulary of all words that appear in any of the documents, and number them (say, in alphabetical order).</li>\n",
    "<li><i>Encoding.</i> For each document, count how often each of the words in the vocabulary appear in this document.</li>"
   ]
  },
  {
   "cell_type": "code",
   "execution_count": 1,
   "metadata": {},
   "outputs": [],
   "source": [
    "bards_words = [\"In language processing, the vectors x are derived from textual data,\", \n",
    "               \"in order to reflect various linguistic properties of the text.\"]"
   ]
  },
  {
   "cell_type": "code",
   "execution_count": 2,
   "metadata": {},
   "outputs": [
    {
     "data": {
      "text/plain": [
       "CountVectorizer()"
      ]
     },
     "execution_count": 2,
     "metadata": {},
     "output_type": "execute_result"
    }
   ],
   "source": [
    "from sklearn.feature_extraction.text import CountVectorizer\n",
    "vect = CountVectorizer()\n",
    "vect.fit(bards_words)"
   ]
  },
  {
   "cell_type": "code",
   "execution_count": 3,
   "metadata": {},
   "outputs": [
    {
     "name": "stdout",
     "output_type": "stream",
     "text": [
      "Vocabulary size: 18\n",
      "Vocabulary content: \n",
      " {'in': 4, 'language': 5, 'processing': 9, 'the': 14, 'vectors': 17, 'are': 0, 'derived': 2, 'from': 3, 'textual': 13, 'data': 1, 'order': 8, 'to': 15, 'reflect': 11, 'various': 16, 'linguistic': 6, 'properties': 10, 'of': 7, 'text': 12}\n"
     ]
    }
   ],
   "source": [
    "print(f\"Vocabulary size: {len(vect.vocabulary_)}\")\n",
    "print(f\"Vocabulary content: \\n {vect.vocabulary_}\")"
   ]
  },
  {
   "cell_type": "markdown",
   "metadata": {},
   "source": [
    "The vocabulary consists of 18 words form \"in\" to \"text\""
   ]
  },
  {
   "cell_type": "code",
   "execution_count": 4,
   "metadata": {},
   "outputs": [
    {
     "name": "stdout",
     "output_type": "stream",
     "text": [
      "Bag-of-words: <2x18 sparse matrix of type '<class 'numpy.int64'>'\n",
      "\twith 20 stored elements in Compressed Sparse Row format>\n"
     ]
    }
   ],
   "source": [
    "bag_of_words = vect.transform(bards_words)\n",
    "print(f\"Bag-of-words: {repr(bag_of_words)}\")"
   ]
  },
  {
   "cell_type": "code",
   "execution_count": 5,
   "metadata": {},
   "outputs": [
    {
     "name": "stdout",
     "output_type": "stream",
     "text": [
      "Dense representation of bag_of_words:\n",
      " [[1 1 1 1 1 1 0 0 0 1 0 0 0 1 1 0 0 1]\n",
      " [0 0 0 0 1 0 1 1 1 0 1 1 1 0 1 1 1 0]]\n"
     ]
    }
   ],
   "source": [
    "print(f\"Dense representation of bag_of_words:\\n {bag_of_words.toarray()}\")"
   ]
  }
 ],
 "metadata": {
  "interpreter": {
   "hash": "27ffa7f6249cc1aa9ebf365262e7c669813451903de40b06f00d4bcd7a1edb40"
  },
  "kernelspec": {
   "display_name": "Python 3.7.9 64-bit",
   "language": "python",
   "name": "python3"
  },
  "language_info": {
   "codemirror_mode": {
    "name": "ipython",
    "version": 3
   },
   "file_extension": ".py",
   "mimetype": "text/x-python",
   "name": "python",
   "nbconvert_exporter": "python",
   "pygments_lexer": "ipython3",
   "version": "3.7.9"
  },
  "orig_nbformat": 4
 },
 "nbformat": 4,
 "nbformat_minor": 2
}
